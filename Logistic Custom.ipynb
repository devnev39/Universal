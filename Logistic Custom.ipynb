{
 "cells": [
  {
   "cell_type": "code",
   "execution_count": 1,
   "metadata": {},
   "outputs": [],
   "source": [
    "import numpy as np\n",
    "import matplotlib.pyplot as plt\n",
    "from sklearn.datasets import make_blobs\n",
    "from sklearn.model_selection import train_test_split"
   ]
  },
  {
   "cell_type": "code",
   "execution_count": 2,
   "metadata": {},
   "outputs": [],
   "source": [
    "X,y = make_blobs(centers=2,random_state=0)"
   ]
  },
  {
   "cell_type": "code",
   "execution_count": 3,
   "metadata": {},
   "outputs": [
    {
     "data": {
      "text/plain": [
       "(67, 1)"
      ]
     },
     "execution_count": 3,
     "metadata": {},
     "output_type": "execute_result"
    }
   ],
   "source": [
    "X_train, X_test, y_train, y_test = train_test_split(\n",
    "...     X, y, test_size=0.33, random_state=42)\n",
    "y_train.reshape(-1,1).shape"
   ]
  },
  {
   "cell_type": "code",
   "execution_count": 55,
   "metadata": {},
   "outputs": [],
   "source": [
    "class CustomLogisticModel:\n",
    "    def __init__(self,lr=0.01,iters=20):\n",
    "        self.__lr = lr\n",
    "        self.__iters = iters\n",
    "    \n",
    "    def fit(self,X,y):\n",
    "        self.__y = y.reshape(-1,1)\n",
    "        X_mod = np.hstack([np.ones([len(X),1]),X])\n",
    "        self.__X = X_mod\n",
    "        self.__theta = np.zeros([X_mod.shape[1],1])\n",
    "        error = []\n",
    "        for x in range(self.__iters):\n",
    "            error.append(self.error())\n",
    "            self.gradient_ascend()\n",
    "        \n",
    "        self.theta_ = self.__theta\n",
    "        return error\n",
    "    \n",
    "    def gradient_ascend(self):\n",
    "        theta = self.gradient()\n",
    "        self.__theta += theta\n",
    "    \n",
    "    def gradient(self):\n",
    "        yh = self.hypothesis(self.__X)\n",
    "        ya = self.__y\n",
    "        diff = ya - yh\n",
    "        return np.dot(self.__X.T,diff)* self.__lr\n",
    "        \n",
    "    def hypothesis(self,X):\n",
    "        prod = np.dot(X,self.__theta)\n",
    "        return 1 /(1 + np.exp(-prod))\n",
    "    \n",
    "    def predict(self,X):\n",
    "        X_mod = np.hstack([np.ones([len(X),1]),X])\n",
    "        yh = self.hypothesis(X_mod)\n",
    "        return (yh > .5).astype(int).flatten()\n",
    "    \n",
    "    def error(self):\n",
    "        yh = self.hypothesis(self.__X)\n",
    "        ya = self.__y\n",
    "        ll = ya * np.log(yh) + (1-ya)*np.log(1-yh)\n",
    "        return -np.mean(ll)\n",
    "    \n",
    "    def score(self,X,y):\n",
    "        yp = self.predict(X)\n",
    "        mean = np.mean(yp==y)\n",
    "        return f'{(1 - mean)*100} %'\n",
    "        "
   ]
  },
  {
   "cell_type": "code",
   "execution_count": 56,
   "metadata": {},
   "outputs": [],
   "source": [
    "model = CustomLogisticModel()\n"
   ]
  },
  {
   "cell_type": "code",
   "execution_count": 57,
   "metadata": {},
   "outputs": [],
   "source": [
    "error = model.fit(X_train,y_train)"
   ]
  },
  {
   "cell_type": "code",
   "execution_count": 58,
   "metadata": {},
   "outputs": [
    {
     "data": {
      "text/plain": [
       "array([[ 0.71194608],\n",
       "       [ 1.17525229],\n",
       "       [-1.1967875 ]])"
      ]
     },
     "execution_count": 58,
     "metadata": {},
     "output_type": "execute_result"
    }
   ],
   "source": [
    "model.theta_ "
   ]
  },
  {
   "cell_type": "code",
   "execution_count": 59,
   "metadata": {},
   "outputs": [],
   "source": [
    "from sklearn.linear_model import LogisticRegression"
   ]
  },
  {
   "cell_type": "code",
   "execution_count": 60,
   "metadata": {},
   "outputs": [],
   "source": [
    "skmod = LogisticRegression()"
   ]
  },
  {
   "cell_type": "code",
   "execution_count": 61,
   "metadata": {},
   "outputs": [
    {
     "data": {
      "text/plain": [
       "LogisticRegression()"
      ]
     },
     "execution_count": 61,
     "metadata": {},
     "output_type": "execute_result"
    }
   ],
   "source": [
    "skmod.fit(X_train,y_train)"
   ]
  },
  {
   "cell_type": "code",
   "execution_count": 62,
   "metadata": {},
   "outputs": [
    {
     "data": {
      "text/plain": [
       "array([[ 0.44885782, -2.2541499 ]])"
      ]
     },
     "execution_count": 62,
     "metadata": {},
     "output_type": "execute_result"
    }
   ],
   "source": [
    "skmod.coef_"
   ]
  },
  {
   "cell_type": "code",
   "execution_count": 63,
   "metadata": {},
   "outputs": [
    {
     "data": {
      "text/plain": [
       "array([5.05641484])"
      ]
     },
     "execution_count": 63,
     "metadata": {},
     "output_type": "execute_result"
    }
   ],
   "source": [
    "skmod.intercept_"
   ]
  },
  {
   "cell_type": "code",
   "execution_count": 64,
   "metadata": {},
   "outputs": [],
   "source": [
    "th = model.theta_.flatten()\n",
    "x_sam = np.linspace(-6,7)"
   ]
  },
  {
   "cell_type": "code",
   "execution_count": 65,
   "metadata": {},
   "outputs": [
    {
     "data": {
      "text/plain": [
       "[<matplotlib.lines.Line2D at 0x141ef88>]"
      ]
     },
     "execution_count": 65,
     "metadata": {},
     "output_type": "execute_result"
    },
    {
     "data": {
      "image/png": "[encoded data removed]",
      "text/plain": [
       "<Figure size 432x288 with 1 Axes>"
      ]
     },
     "metadata": {
      "needs_background": "light"
     },
     "output_type": "display_data"
    }
   ],
   "source": [
    "plt.scatter(X[:,0],X[:,1])\n",
    "y_sam = - th[1] / th[2] * x_sam - th[0] / th[2]\n",
    "y_samsk = - skmod.coef_[0][0] / skmod.coef_[0][1] *x_sam - skmod.intercept_[0]/skmod.coef_[0][1]\n",
    "plt.plot(x_sam,y_sam)\n",
    "plt.plot(x_sam ,y_samsk,'r')"
   ]
  },
  {
   "cell_type": "code",
   "execution_count": 66,
   "metadata": {},
   "outputs": [
    {
     "data": {
      "text/plain": [
       "'11.940298507462687 %'"
      ]
     },
     "execution_count": 66,
     "metadata": {},
     "output_type": "execute_result"
    }
   ],
   "source": [
    "model.score(X_train,y_train)"
   ]
  },
  {
   "cell_type": "code",
   "execution_count": 67,
   "metadata": {},
   "outputs": [
    {
     "data": {
      "text/plain": [
       "0.9552238805970149"
      ]
     },
     "execution_count": 67,
     "metadata": {},
     "output_type": "execute_result"
    }
   ],
   "source": [
    "skmod.score(X_train,y_train)"
   ]
  },
  {
   "cell_type": "code",
   "execution_count": null,
   "metadata": {},
   "outputs": [],
   "source": []
  }
 ],
 "metadata": {
  "kernelspec": {
   "display_name": "Python 3",
   "language": "python",
   "name": "python3"
  },
  "language_info": {
   "codemirror_mode": {
    "name": "ipython",
    "version": 3
   },
   "file_extension": ".py",
   "mimetype": "text/x-python",
   "name": "python",
   "nbconvert_exporter": "python",
   "pygments_lexer": "ipython3",
   "version": "3.8.5"
  }
 },
 "nbformat": 4,
 "nbformat_minor": 4
}
