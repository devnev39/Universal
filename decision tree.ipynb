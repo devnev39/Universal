{
 "cells": [
  {
   "cell_type": "code",
   "execution_count": 2,
   "metadata": {},
   "outputs": [],
   "source": [
    "import numpy as np \n",
    "import pandas as pd\n",
    "import matplotlib.pyplot as plt"
   ]
  },
  {
   "cell_type": "code",
   "execution_count": 3,
   "metadata": {},
   "outputs": [],
   "source": [
    "from sklearn.datasets import load_iris\n",
    "import math"
   ]
  },
  {
   "cell_type": "code",
   "execution_count": 4,
   "metadata": {},
   "outputs": [],
   "source": [
    "iris = load_iris()"
   ]
  },
  {
   "cell_type": "code",
   "execution_count": 5,
   "metadata": {},
   "outputs": [],
   "source": [
    "df = pd.DataFrame(data=np.c_[iris['data'],iris['target']] , columns=iris['feature_names']+['target'])"
   ]
  },
  {
   "cell_type": "code",
   "execution_count": 6,
   "metadata": {},
   "outputs": [
    {
     "data": {
      "text/html": "<div>\n<style scoped>\n    .dataframe tbody tr th:only-of-type {\n        vertical-align: middle;\n    }\n\n    .dataframe tbody tr th {\n        vertical-align: top;\n    }\n\n    .dataframe thead th {\n        text-align: right;\n    }\n</style>\n<table border=\"1\" class=\"dataframe\">\n  <thead>\n    <tr style=\"text-align: right;\">\n      <th></th>\n      <th>sepal length (cm)</th>\n      <th>sepal width (cm)</th>\n      <th>petal length (cm)</th>\n      <th>petal width (cm)</th>\n      <th>target</th>\n    </tr>\n  </thead>\n  <tbody>\n    <tr>\n      <th>0</th>\n      <td>5.1</td>\n      <td>3.5</td>\n      <td>1.4</td>\n      <td>0.2</td>\n      <td>0.0</td>\n    </tr>\n    <tr>\n      <th>1</th>\n      <td>4.9</td>\n      <td>3.0</td>\n      <td>1.4</td>\n      <td>0.2</td>\n      <td>0.0</td>\n    </tr>\n    <tr>\n      <th>2</th>\n      <td>4.7</td>\n      <td>3.2</td>\n      <td>1.3</td>\n      <td>0.2</td>\n      <td>0.0</td>\n    </tr>\n    <tr>\n      <th>3</th>\n      <td>4.6</td>\n      <td>3.1</td>\n      <td>1.5</td>\n      <td>0.2</td>\n      <td>0.0</td>\n    </tr>\n    <tr>\n      <th>4</th>\n      <td>5.0</td>\n      <td>3.6</td>\n      <td>1.4</td>\n      <td>0.2</td>\n      <td>0.0</td>\n    </tr>\n  </tbody>\n</table>\n</div>",
      "text/plain": "   sepal length (cm)  sepal width (cm)  petal length (cm)  petal width (cm)  \\\n0                5.1               3.5                1.4               0.2   \n1                4.9               3.0                1.4               0.2   \n2                4.7               3.2                1.3               0.2   \n3                4.6               3.1                1.5               0.2   \n4                5.0               3.6                1.4               0.2   \n\n   target  \n0     0.0  \n1     0.0  \n2     0.0  \n3     0.0  \n4     0.0  "
     },
     "execution_count": 6,
     "metadata": {},
     "output_type": "execute_result"
    }
   ],
   "source": [
    "df.head()"
   ]
  },
  {
   "cell_type": "code",
   "execution_count": 14,
   "metadata": {},
   "outputs": [],
   "source": [
    "class EnTree:\n",
    "    def __init__(self,depth=0,max_depth=5,target=None):\n",
    "        self.depth = depth\n",
    "        self.max_depth = max_depth\n",
    "        self.childs = []\n",
    "        self.dataframe = None\n",
    "        self.target = target\n",
    "        self.Ret = None\n",
    "        self.columns = None\n",
    "    \n",
    "    def entropy(self,column):\n",
    "        _ , counts = np.unique(column,return_counts=True)\n",
    "        s = 0\n",
    "        for count in counts:\n",
    "            s+= float(count)/sum(counts) * math.log2(float(count)/sum(counts))\n",
    "        return -s\n",
    "\n",
    "    def getIG(self,data,column):\n",
    "        unique , counts = np.unique(data[column] , return_counts=True)\n",
    "        ig = 0\n",
    "\n",
    "        for u,c in zip(unique,counts):\n",
    "            ig += c / sum(counts) * self.entropy(data[self.target].values[data[column]==u])\n",
    "        hs = self.entropy(data[self.target])\n",
    "        return hs-ig\n",
    "\n",
    "    def split(self,data,column):\n",
    "        unique , counts = np.unique(data[column] , return_counts=True)\n",
    "        if(len(counts)>1):\n",
    "            childs = []\n",
    "            for u in unique:\n",
    "                df = pd.DataFrame([],columns=data.columns)\n",
    "                for each in data.columns:\n",
    "                    df[each] = data[each].values[data[column]==u]\n",
    "                childs.append(df)\n",
    "            return childs\n",
    "        \n",
    "        return None\n",
    "    \n",
    "    def fit(self,X):\n",
    "        columns = X.drop(columns=[self.target]).columns\n",
    "        self.columns = columns\n",
    "        igs = []\n",
    "        for each in columns:\n",
    "            igs.append(self.getIG(X,each))\n",
    "        \n",
    "        differ = columns[np.argmax(igs)]\n",
    "        nodes = self.split(X,differ)\n",
    "\n",
    "        if nodes is None:\n",
    "            if(X[self.target].mean() > 0.5):\n",
    "                self.Ret = 1\n",
    "            else:\n",
    "                self.Ret = 0\n",
    "            \n",
    "            return\n",
    "            \n",
    "        if self.depth == self.max_depth:\n",
    "            if(X[self.target].mean() > 0.5):\n",
    "                self.Ret = 1\n",
    "            else:\n",
    "                self.Ret = 0\n",
    "\n",
    "            return \n",
    "\n",
    "        for node in nodes:\n",
    "            child = EnTree(depth=self.depth+1,target=self.target)\n",
    "            child.dataframe = node\n",
    "            self.childs.append(child)\n",
    "\n",
    "        for child in self.childs:\n",
    "            child.fit(child.dataframe)\n",
    "        \n",
    "    \n",
    "    def predict(self,vals,max_feat_match):\n",
    "        found = 0\n",
    "        for level in range(max_feat_match):\n",
    "            if found == 0:\n",
    "                for child in self.childs:\n",
    "                    if found == 0:\n",
    "                        for row in child.dataframe.iloc:\n",
    "                            if(sum(row.drop(self.target)==vals) == (len(self.columns)-level)):\n",
    "                                found = child\n",
    "                    else:\n",
    "                        break\n",
    "            else:\n",
    "                break\n",
    "        \n",
    "        if found==0:\n",
    "            return self.Ret\n",
    "\n",
    "        if(found):\n",
    "            return found.predict(vals,max_feat_match)\n",
    "\n",
    "            \n",
    "\n",
    "\n",
    "\n",
    "    \n",
    "\n"
   ]
  },
  {
   "cell_type": "code",
   "execution_count": 15,
   "metadata": {},
   "outputs": [],
   "source": [
    "tree = EnTree(target='target')"
   ]
  },
  {
   "cell_type": "code",
   "execution_count": 16,
   "metadata": {},
   "outputs": [],
   "source": [
    "tree.fit(df)"
   ]
  },
  {
   "cell_type": "code",
   "execution_count": 17,
   "metadata": {},
   "outputs": [
    {
     "data": {
      "text/plain": "0"
     },
     "execution_count": 17,
     "metadata": {},
     "output_type": "execute_result"
    }
   ],
   "source": [
    "tree.predict(df.iloc[32].drop('target'),4)"
   ]
  },
  {
   "cell_type": "code",
   "execution_count": 18,
   "metadata": {},
   "outputs": [
    {
     "data": {
      "text/plain": "sepal length (cm)    5.2\nsepal width (cm)     4.1\npetal length (cm)    1.5\npetal width (cm)     0.1\ntarget               0.0\nName: 32, dtype: float64"
     },
     "execution_count": 18,
     "metadata": {},
     "output_type": "execute_result"
    }
   ],
   "source": [
    "df.iloc[32]"
   ]
  },
  {
   "cell_type": "code",
   "execution_count": null,
   "metadata": {},
   "outputs": [],
   "source": []
  }
 ],
 "metadata": {
  "kernelspec": {
   "display_name": "Python 3.8.10 64-bit ('tf_env': conda)",
   "name": "python3810jvsc74a57bd00e8fd786ba3d4c517065ccaaad9f8102eeb1199fc26f94d8617e8c87c51a7954"
  },
  "language_info": {
   "codemirror_mode": {
    "name": "ipython",
    "version": 3
   },
   "file_extension": ".py",
   "mimetype": "text/x-python",
   "name": "python",
   "nbconvert_exporter": "python",
   "pygments_lexer": "ipython3",
   "version": "3.8.10"
  },
  "metadata": {
   "interpreter": {
    "hash": "0e8fd786ba3d4c517065ccaaad9f8102eeb1199fc26f94d8617e8c87c51a7954"
   }
  },
  "orig_nbformat": 2
 },
 "nbformat": 4,
 "nbformat_minor": 2
}
