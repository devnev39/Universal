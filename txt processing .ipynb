{
 "cells": [
  {
   "cell_type": "code",
   "execution_count": 8,
   "metadata": {},
   "outputs": [],
   "source": [
    "from nltk.corpus import brown"
   ]
  },
  {
   "cell_type": "code",
   "execution_count": 26,
   "metadata": {},
   "outputs": [],
   "source": [
    "corpus = ['There were thirty-eight patients on the bus the morning I left for Hanover , most of them disturbed and hallucinating .',\n",
    "          'It seemed incredible , as I listened to the monotonous drone of voices and smelled the fetid odors coming from the patients , that technically I was a ward of the state of Illinois , going to a hospital for the mentally ill .',\n",
    "          'An interne , a nurse and two attendants were in charge of us .',\n",
    "          'She wasnt quite sure that I felt enough remorse about my drinking , or that I would not return to it once I was out and on my own again .'\n",
    "         ]"
   ]
  },
  {
   "cell_type": "code",
   "execution_count": 27,
   "metadata": {},
   "outputs": [],
   "source": [
    "from nltk.tokenize import word_tokenize"
   ]
  },
  {
   "cell_type": "code",
   "execution_count": 30,
   "metadata": {},
   "outputs": [],
   "source": [
    "from nltk.corpus import stopwords\n",
    "from nltk.stem import PorterStemmer\n",
    "ps = PorterStemmer()"
   ]
  },
  {
   "cell_type": "code",
   "execution_count": 33,
   "metadata": {},
   "outputs": [],
   "source": [
    "def tokenize(doc):\n",
    "    words = word_tokenize(doc)\n",
    "    words = [e for e in words if e not in stopwords.words('english')]\n",
    "    return words"
   ]
  },
  {
   "cell_type": "code",
   "execution_count": 35,
   "metadata": {},
   "outputs": [],
   "source": [
    "from sklearn.feature_extraction.text import CountVectorizer"
   ]
  },
  {
   "cell_type": "code",
   "execution_count": 36,
   "metadata": {},
   "outputs": [],
   "source": [
    "cv = CountVectorizer(tokenizer=tokenize)"
   ]
  },
  {
   "cell_type": "code",
   "execution_count": 37,
   "metadata": {},
   "outputs": [],
   "source": [
    "vc = cv.fit_transform(corpus)"
   ]
  },
  {
   "cell_type": "code",
   "execution_count": 39,
   "metadata": {},
   "outputs": [],
   "source": [
    "vc = vc.toarray()"
   ]
  },
  {
   "cell_type": "code",
   "execution_count": 40,
   "metadata": {},
   "outputs": [
    {
     "name": "stdout",
     "output_type": "stream",
     "text": [
      "[[1 1 0 1 0 0 1 0 0 0 0 0 0 1 1 0 0 0 0 0 1 0 0 0 1 0 0 1 0 0 0 0 0 0 0 0\n",
      "  1 0 0 0 0 0 0]\n",
      " [3 1 0 0 0 1 0 0 1 0 0 1 1 0 0 1 1 1 1 0 0 1 1 1 0 0 1 1 0 0 0 1 1 1 0 1\n",
      "  0 0 0 1 1 0 0]\n",
      " [1 1 1 0 1 0 0 0 0 0 0 0 0 0 0 0 0 0 0 1 0 0 0 0 0 1 0 0 0 0 0 0 0 0 0 0\n",
      "  0 1 1 0 0 0 0]\n",
      " [1 1 0 0 0 0 0 1 0 1 1 0 0 0 0 0 0 0 0 0 0 0 0 0 0 0 0 0 1 1 1 0 0 0 1 0\n",
      "  0 0 0 0 0 1 1]]\n"
     ]
    }
   ],
   "source": [
    "print(vc)"
   ]
  },
  {
   "cell_type": "code",
   "execution_count": 41,
   "metadata": {},
   "outputs": [
    {
     "name": "stdout",
     "output_type": "stream",
     "text": [
      "{'thirty-eight': 36, 'patients': 27, 'bus': 3, 'morning': 24, 'left': 20, 'hanover': 14, ',': 0, 'disturbed': 6, 'hallucinating': 13, '.': 1, 'seemed': 31, 'incredible': 18, 'listened': 21, 'monotonous': 23, 'drone': 8, 'voices': 39, 'smelled': 32, 'fetid': 11, 'odors': 26, 'coming': 5, 'technically': 35, 'ward': 40, 'state': 33, 'illinois': 17, 'going': 12, 'hospital': 15, 'mentally': 22, 'ill': 16, 'interne': 19, 'nurse': 25, 'two': 37, 'attendants': 2, 'charge': 4, 'us': 38, 'wasnt': 41, 'quite': 28, 'sure': 34, 'felt': 10, 'enough': 9, 'remorse': 29, 'drinking': 7, 'would': 42, 'return': 30}\n"
     ]
    }
   ],
   "source": [
    "print(cv.vocabulary_)"
   ]
  },
  {
   "cell_type": "code",
   "execution_count": 46,
   "metadata": {},
   "outputs": [
    {
     "data": {
      "text/plain": [
       "dict"
      ]
     },
     "execution_count": 46,
     "metadata": {},
     "output_type": "execute_result"
    }
   ],
   "source": [
    "type(cv.vocabulary_)"
   ]
  },
  {
   "cell_type": "code",
   "execution_count": 61,
   "metadata": {},
   "outputs": [
    {
     "name": "stdout",
     "output_type": "stream",
     "text": [
      "1 : 0\n",
      "1 : 1\n",
      "0 : 2\n",
      "1 : 3\n",
      "0 : 4\n",
      "0 : 5\n",
      "1 : 6\n",
      "0 : 7\n",
      "0 : 8\n",
      "0 : 9\n",
      "0 : 10\n",
      "0 : 11\n",
      "0 : 12\n",
      "1 : 13\n",
      "1 : 14\n",
      "0 : 15\n",
      "0 : 16\n",
      "0 : 17\n",
      "0 : 18\n",
      "0 : 19\n",
      "1 : 20\n",
      "0 : 21\n",
      "0 : 22\n",
      "0 : 23\n",
      "1 : 24\n",
      "0 : 25\n",
      "0 : 26\n",
      "1 : 27\n",
      "0 : 28\n",
      "0 : 29\n",
      "0 : 30\n",
      "0 : 31\n",
      "0 : 32\n",
      "0 : 33\n",
      "0 : 34\n",
      "0 : 35\n",
      "1 : 36\n",
      "0 : 37\n",
      "0 : 38\n",
      "0 : 39\n",
      "0 : 40\n",
      "0 : 41\n",
      "0 : 42\n",
      "3 : 0\n",
      "1 : 1\n",
      "0 : 2\n",
      "0 : 3\n",
      "0 : 4\n",
      "1 : 5\n",
      "0 : 6\n",
      "0 : 7\n",
      "1 : 8\n",
      "0 : 9\n",
      "0 : 10\n",
      "1 : 11\n",
      "1 : 12\n",
      "0 : 13\n",
      "0 : 14\n",
      "1 : 15\n",
      "1 : 16\n",
      "1 : 17\n",
      "1 : 18\n",
      "0 : 19\n",
      "0 : 20\n",
      "1 : 21\n",
      "1 : 22\n",
      "1 : 23\n",
      "0 : 24\n",
      "0 : 25\n",
      "1 : 26\n",
      "1 : 27\n",
      "0 : 28\n",
      "0 : 29\n",
      "0 : 30\n",
      "1 : 31\n",
      "1 : 32\n",
      "1 : 33\n",
      "0 : 34\n",
      "1 : 35\n",
      "0 : 36\n",
      "0 : 37\n",
      "0 : 38\n",
      "1 : 39\n",
      "1 : 40\n",
      "0 : 41\n",
      "0 : 42\n",
      "1 : 0\n",
      "1 : 1\n",
      "1 : 2\n",
      "0 : 3\n",
      "1 : 4\n",
      "0 : 5\n",
      "0 : 6\n",
      "0 : 7\n",
      "0 : 8\n",
      "0 : 9\n",
      "0 : 10\n",
      "0 : 11\n",
      "0 : 12\n",
      "0 : 13\n",
      "0 : 14\n",
      "0 : 15\n",
      "0 : 16\n",
      "0 : 17\n",
      "0 : 18\n",
      "1 : 19\n",
      "0 : 20\n",
      "0 : 21\n",
      "0 : 22\n",
      "0 : 23\n",
      "0 : 24\n",
      "1 : 25\n",
      "0 : 26\n",
      "0 : 27\n",
      "0 : 28\n",
      "0 : 29\n",
      "0 : 30\n",
      "0 : 31\n",
      "0 : 32\n",
      "0 : 33\n",
      "0 : 34\n",
      "0 : 35\n",
      "0 : 36\n",
      "1 : 37\n",
      "1 : 38\n",
      "0 : 39\n",
      "0 : 40\n",
      "0 : 41\n",
      "0 : 42\n",
      "1 : 0\n",
      "1 : 1\n",
      "0 : 2\n",
      "0 : 3\n",
      "0 : 4\n",
      "0 : 5\n",
      "0 : 6\n",
      "1 : 7\n",
      "0 : 8\n",
      "1 : 9\n",
      "1 : 10\n",
      "0 : 11\n",
      "0 : 12\n",
      "0 : 13\n",
      "0 : 14\n",
      "0 : 15\n",
      "0 : 16\n",
      "0 : 17\n",
      "0 : 18\n",
      "0 : 19\n",
      "0 : 20\n",
      "0 : 21\n",
      "0 : 22\n",
      "0 : 23\n",
      "0 : 24\n",
      "0 : 25\n",
      "0 : 26\n",
      "0 : 27\n",
      "1 : 28\n",
      "1 : 29\n",
      "1 : 30\n",
      "0 : 31\n",
      "0 : 32\n",
      "0 : 33\n",
      "1 : 34\n",
      "0 : 35\n",
      "0 : 36\n",
      "0 : 37\n",
      "0 : 38\n",
      "0 : 39\n",
      "0 : 40\n",
      "1 : 41\n",
      "1 : 42\n"
     ]
    }
   ],
   "source": [
    "for each in vc:\n",
    "    [print(f'{i} : {e}') for e,i in enumerate(each)]"
   ]
  },
  {
   "cell_type": "code",
   "execution_count": 59,
   "metadata": {},
   "outputs": [
    {
     "name": "stdout",
     "output_type": "stream",
     "text": [
      "f 0 : 1\n",
      "f 1 : 2\n",
      "f 2 : 3\n",
      "f 3 : 4\n"
     ]
    },
    {
     "data": {
      "text/plain": [
       "[None, None, None, None]"
      ]
     },
     "execution_count": 59,
     "metadata": {},
     "output_type": "execute_result"
    }
   ],
   "source": [
    "[print(f'f {e} : {i}') for e,i in enumerate(lst)]"
   ]
  },
  {
   "cell_type": "code",
   "execution_count": null,
   "metadata": {},
   "outputs": [],
   "source": []
  }
 ],
 "metadata": {
  "kernelspec": {
   "display_name": "Python 3",
   "language": "python",
   "name": "python3"
  },
  "language_info": {
   "codemirror_mode": {
    "name": "ipython",
    "version": 3
   },
   "file_extension": ".py",
   "mimetype": "text/x-python",
   "name": "python",
   "nbconvert_exporter": "python",
   "pygments_lexer": "ipython3",
   "version": "3.8.5"
  }
 },
 "nbformat": 4,
 "nbformat_minor": 4
}
